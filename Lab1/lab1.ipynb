{
 "cells": [
  {
   "cell_type": "markdown",
   "metadata": {},
   "source": [
    "# Определение энергетической ценности продуктов питания"
   ]
  },
  {
   "cell_type": "markdown",
   "metadata": {},
   "source": [
    "## Импортируем библиотеки"
   ]
  },
  {
   "cell_type": "code",
   "execution_count": 2,
   "metadata": {},
   "outputs": [],
   "source": [
    "import pandas as pd"
   ]
  },
  {
   "cell_type": "markdown",
   "metadata": {},
   "source": [
    "## Таблица продуктов"
   ]
  },
  {
   "cell_type": "markdown",
   "metadata": {},
   "source": [
    "Данные взяты из Химический состав российских пищевых продуктов: Справочник\n",
    "Под ред. член-корр. МАИ, проф. И. М. Скурихина и академика РАМН, проф. В. А. Тутельяна. -Х46 М.: ДеЛи принт, 2002. - 236 с. ISBN 5-94343-028-8"
   ]
  },
  {
   "cell_type": "code",
   "execution_count": 3,
   "metadata": {},
   "outputs": [
    {
     "data": {
      "text/plain": "      Наименование продукта  Белки, %  Жиры, %  Углеводы, %\n0              Хлеб подовый       8.0      1.5         40.1\n1          Сухари армейские      12.2      2.3         60.1\n2           Хлопья Геркулес      12.3      6.1         61.8\n3             Крупа рисовая       7.0      1.0         74.0\n4          Печенье затяжное       8.5     11.3         69.7\n5          Печенье сахарное       7.5      9.8         74.4\n6        Печенье миндальное       7.6     13.6         67.4\n7           Печенье сдобное       6.4     16.8         68.5\n8           Макароны яичные      11.0      1.3         69.6\n9         Булочки столичные       8.4      2.2         53.7\n10         Пряники сырцовые       6.3      2.1         75.6\n11          Соломка сладкая       9.1      6.1         69.3\n12         Сухари сливочные       8.5     10.8         66.7\n13                   Галеты       9.7     10.2         65.6\n14          Баранки сдобные       8.3      8.0         60.4\n15         Булочки молочные       8.8      2.2         50.3\n16          Булки городские       7.7      2.4         52.9\n17           Батон нарезной       7.5      2.9         51.4\n18              Рожки к чаю       8.4      5.6         56.8\n19  Хлеб пшеничный формовой       7.6      0.8         49.2",
      "text/html": "<div>\n<style scoped>\n    .dataframe tbody tr th:only-of-type {\n        vertical-align: middle;\n    }\n\n    .dataframe tbody tr th {\n        vertical-align: top;\n    }\n\n    .dataframe thead th {\n        text-align: right;\n    }\n</style>\n<table border=\"1\" class=\"dataframe\">\n  <thead>\n    <tr style=\"text-align: right;\">\n      <th></th>\n      <th>Наименование продукта</th>\n      <th>Белки, %</th>\n      <th>Жиры, %</th>\n      <th>Углеводы, %</th>\n    </tr>\n  </thead>\n  <tbody>\n    <tr>\n      <th>0</th>\n      <td>Хлеб подовый</td>\n      <td>8.0</td>\n      <td>1.5</td>\n      <td>40.1</td>\n    </tr>\n    <tr>\n      <th>1</th>\n      <td>Сухари армейские</td>\n      <td>12.2</td>\n      <td>2.3</td>\n      <td>60.1</td>\n    </tr>\n    <tr>\n      <th>2</th>\n      <td>Хлопья Геркулес</td>\n      <td>12.3</td>\n      <td>6.1</td>\n      <td>61.8</td>\n    </tr>\n    <tr>\n      <th>3</th>\n      <td>Крупа рисовая</td>\n      <td>7.0</td>\n      <td>1.0</td>\n      <td>74.0</td>\n    </tr>\n    <tr>\n      <th>4</th>\n      <td>Печенье затяжное</td>\n      <td>8.5</td>\n      <td>11.3</td>\n      <td>69.7</td>\n    </tr>\n    <tr>\n      <th>5</th>\n      <td>Печенье сахарное</td>\n      <td>7.5</td>\n      <td>9.8</td>\n      <td>74.4</td>\n    </tr>\n    <tr>\n      <th>6</th>\n      <td>Печенье миндальное</td>\n      <td>7.6</td>\n      <td>13.6</td>\n      <td>67.4</td>\n    </tr>\n    <tr>\n      <th>7</th>\n      <td>Печенье сдобное</td>\n      <td>6.4</td>\n      <td>16.8</td>\n      <td>68.5</td>\n    </tr>\n    <tr>\n      <th>8</th>\n      <td>Макароны яичные</td>\n      <td>11.0</td>\n      <td>1.3</td>\n      <td>69.6</td>\n    </tr>\n    <tr>\n      <th>9</th>\n      <td>Булочки столичные</td>\n      <td>8.4</td>\n      <td>2.2</td>\n      <td>53.7</td>\n    </tr>\n    <tr>\n      <th>10</th>\n      <td>Пряники сырцовые</td>\n      <td>6.3</td>\n      <td>2.1</td>\n      <td>75.6</td>\n    </tr>\n    <tr>\n      <th>11</th>\n      <td>Соломка сладкая</td>\n      <td>9.1</td>\n      <td>6.1</td>\n      <td>69.3</td>\n    </tr>\n    <tr>\n      <th>12</th>\n      <td>Сухари сливочные</td>\n      <td>8.5</td>\n      <td>10.8</td>\n      <td>66.7</td>\n    </tr>\n    <tr>\n      <th>13</th>\n      <td>Галеты</td>\n      <td>9.7</td>\n      <td>10.2</td>\n      <td>65.6</td>\n    </tr>\n    <tr>\n      <th>14</th>\n      <td>Баранки сдобные</td>\n      <td>8.3</td>\n      <td>8.0</td>\n      <td>60.4</td>\n    </tr>\n    <tr>\n      <th>15</th>\n      <td>Булочки молочные</td>\n      <td>8.8</td>\n      <td>2.2</td>\n      <td>50.3</td>\n    </tr>\n    <tr>\n      <th>16</th>\n      <td>Булки городские</td>\n      <td>7.7</td>\n      <td>2.4</td>\n      <td>52.9</td>\n    </tr>\n    <tr>\n      <th>17</th>\n      <td>Батон нарезной</td>\n      <td>7.5</td>\n      <td>2.9</td>\n      <td>51.4</td>\n    </tr>\n    <tr>\n      <th>18</th>\n      <td>Рожки к чаю</td>\n      <td>8.4</td>\n      <td>5.6</td>\n      <td>56.8</td>\n    </tr>\n    <tr>\n      <th>19</th>\n      <td>Хлеб пшеничный формовой</td>\n      <td>7.6</td>\n      <td>0.8</td>\n      <td>49.2</td>\n    </tr>\n  </tbody>\n</table>\n</div>"
     },
     "metadata": {},
     "output_type": "display_data"
    }
   ],
   "source": [
    "nutrition_facts = pd.read_csv('Продукты (БЖУ).csv', names=['Наименование продукта', 'Белки, %', 'Жиры, %', 'Углеводы, %'])\n",
    "display(nutrition_facts)"
   ]
  },
  {
   "cell_type": "markdown",
   "metadata": {},
   "source": [
    "## Таблица энергетической ценности"
   ]
  },
  {
   "cell_type": "code",
   "execution_count": 4,
   "metadata": {},
   "outputs": [
    {
     "data": {
      "text/plain": "      Наименование продукта  \\\n0              Хлеб подовый   \n1          Сухари армейские   \n2           Хлопья Геркулес   \n3             Крупа рисовая   \n4          Печенье затяжное   \n5          Печенье сахарное   \n6        Печенье миндальное   \n7           Печенье сдобное   \n8           Макароны яичные   \n9         Булочки столичные   \n10         Пряники сырцовые   \n11          Соломка сладкая   \n12         Сухари сливочные   \n13                   Галеты   \n14          Баранки сдобные   \n15         Булочки молочные   \n16          Булки городские   \n17           Батон нарезной   \n18              Рожки к чаю   \n19  Хлеб пшеничный формовой   \n\n   Энергетическая ценность теоретическая продукта (ккал/кДж)  \\\n0                                        205.9/862.06          \n1                                       309.9/1297.49          \n2                                       351.3/1470.82          \n3                                        333.0/1394.2          \n4                                       414.5/1735.43          \n5                                       415.8/1740.87          \n6                                        422.4/1768.5          \n7                                       450.8/1887.41          \n8                                       334.1/1398.81          \n9                                        268.2/1122.9          \n10                                      346.5/1450.73          \n11                                      368.5/1542.84          \n12                                      398.0/1666.35          \n13                                      393.0/1645.41          \n14                                      346.8/1451.98          \n15                                      256.2/1072.66          \n16                                      264.0/1105.32          \n17                                      261.7/1095.69          \n18                                      311.2/1302.93          \n19                                       234.4/981.39          \n\n   Энергетическая ценность фактическая (ккал/кДж)  \n0                                   193.07/808.35  \n1                                  290.52/1216.35  \n2                                   329.5/1379.55  \n3                                   315.1/1319.26  \n4                                  390.86/1636.45  \n5                                  392.76/1644.41  \n6                                  398.48/1668.36  \n7                                   425.7/1782.32  \n8                                  314.33/1316.04  \n9                                  252.35/1056.54  \n10                                  328.15/1373.9  \n11                                 347.37/1454.37  \n12                                 375.16/1570.72  \n13                                 369.93/1548.82  \n14                                  326.7/1367.83  \n15                                  240.7/1007.76  \n16                                 248.62/1040.92  \n17                                 246.44/1031.79  \n18                                 292.97/1226.61  \n19                                   220.6/923.61  ",
      "text/html": "<div>\n<style scoped>\n    .dataframe tbody tr th:only-of-type {\n        vertical-align: middle;\n    }\n\n    .dataframe tbody tr th {\n        vertical-align: top;\n    }\n\n    .dataframe thead th {\n        text-align: right;\n    }\n</style>\n<table border=\"1\" class=\"dataframe\">\n  <thead>\n    <tr style=\"text-align: right;\">\n      <th></th>\n      <th>Наименование продукта</th>\n      <th>Энергетическая ценность теоретическая продукта (ккал/кДж)</th>\n      <th>Энергетическая ценность фактическая (ккал/кДж)</th>\n    </tr>\n  </thead>\n  <tbody>\n    <tr>\n      <th>0</th>\n      <td>Хлеб подовый</td>\n      <td>205.9/862.06</td>\n      <td>193.07/808.35</td>\n    </tr>\n    <tr>\n      <th>1</th>\n      <td>Сухари армейские</td>\n      <td>309.9/1297.49</td>\n      <td>290.52/1216.35</td>\n    </tr>\n    <tr>\n      <th>2</th>\n      <td>Хлопья Геркулес</td>\n      <td>351.3/1470.82</td>\n      <td>329.5/1379.55</td>\n    </tr>\n    <tr>\n      <th>3</th>\n      <td>Крупа рисовая</td>\n      <td>333.0/1394.2</td>\n      <td>315.1/1319.26</td>\n    </tr>\n    <tr>\n      <th>4</th>\n      <td>Печенье затяжное</td>\n      <td>414.5/1735.43</td>\n      <td>390.86/1636.45</td>\n    </tr>\n    <tr>\n      <th>5</th>\n      <td>Печенье сахарное</td>\n      <td>415.8/1740.87</td>\n      <td>392.76/1644.41</td>\n    </tr>\n    <tr>\n      <th>6</th>\n      <td>Печенье миндальное</td>\n      <td>422.4/1768.5</td>\n      <td>398.48/1668.36</td>\n    </tr>\n    <tr>\n      <th>7</th>\n      <td>Печенье сдобное</td>\n      <td>450.8/1887.41</td>\n      <td>425.7/1782.32</td>\n    </tr>\n    <tr>\n      <th>8</th>\n      <td>Макароны яичные</td>\n      <td>334.1/1398.81</td>\n      <td>314.33/1316.04</td>\n    </tr>\n    <tr>\n      <th>9</th>\n      <td>Булочки столичные</td>\n      <td>268.2/1122.9</td>\n      <td>252.35/1056.54</td>\n    </tr>\n    <tr>\n      <th>10</th>\n      <td>Пряники сырцовые</td>\n      <td>346.5/1450.73</td>\n      <td>328.15/1373.9</td>\n    </tr>\n    <tr>\n      <th>11</th>\n      <td>Соломка сладкая</td>\n      <td>368.5/1542.84</td>\n      <td>347.37/1454.37</td>\n    </tr>\n    <tr>\n      <th>12</th>\n      <td>Сухари сливочные</td>\n      <td>398.0/1666.35</td>\n      <td>375.16/1570.72</td>\n    </tr>\n    <tr>\n      <th>13</th>\n      <td>Галеты</td>\n      <td>393.0/1645.41</td>\n      <td>369.93/1548.82</td>\n    </tr>\n    <tr>\n      <th>14</th>\n      <td>Баранки сдобные</td>\n      <td>346.8/1451.98</td>\n      <td>326.7/1367.83</td>\n    </tr>\n    <tr>\n      <th>15</th>\n      <td>Булочки молочные</td>\n      <td>256.2/1072.66</td>\n      <td>240.7/1007.76</td>\n    </tr>\n    <tr>\n      <th>16</th>\n      <td>Булки городские</td>\n      <td>264.0/1105.32</td>\n      <td>248.62/1040.92</td>\n    </tr>\n    <tr>\n      <th>17</th>\n      <td>Батон нарезной</td>\n      <td>261.7/1095.69</td>\n      <td>246.44/1031.79</td>\n    </tr>\n    <tr>\n      <th>18</th>\n      <td>Рожки к чаю</td>\n      <td>311.2/1302.93</td>\n      <td>292.97/1226.61</td>\n    </tr>\n    <tr>\n      <th>19</th>\n      <td>Хлеб пшеничный формовой</td>\n      <td>234.4/981.39</td>\n      <td>220.6/923.61</td>\n    </tr>\n  </tbody>\n</table>\n</div>"
     },
     "metadata": {},
     "output_type": "display_data"
    }
   ],
   "source": [
    "kcal_table = [[],[],[]]\n",
    "\n",
    "def kcal_theory(proteins, fats, carbs):\n",
    "    return [4 * proteins, 9 * fats, 4 * carbs]\n",
    "\n",
    "for e in nutrition_facts.itertuples():\n",
    "    kcal_in_theory = kcal_theory(e[2],e[3],e[4])\n",
    "    kcal_sum = round(sum(kcal_in_theory), 2)\n",
    "    kj_in_theory  = round(kcal_sum * 4.1868, 2)\n",
    "    kcal_in_fact = round(kcal_in_theory[0] * 0.845 + kcal_in_theory[1] * 0.94 + kcal_in_theory[2] * 0.956, 2)\n",
    "    kj_in_fact = round(kcal_in_fact * 4.1868, 2)\n",
    "    kcal_table[0].append(e[1])\n",
    "    kcal_table[1].append(f'{kcal_sum}/{kj_in_theory}')\n",
    "    kcal_table[2].append(f'{kcal_in_fact}/{kj_in_fact}')\n",
    "\n",
    "display(pd.DataFrame(kcal_table).transpose().set_axis([\n",
    "    'Наименование продукта',\n",
    "    'Энергетическая ценность теоретическая продукта (ккал/кДж)',\n",
    "    'Энергетическая ценность фактическая (ккал/кДж)',\n",
    "], axis=1, copy=False).sort_index())"
   ]
  },
  {
   "cell_type": "code",
   "execution_count": 4,
   "outputs": [],
   "source": [],
   "metadata": {
    "collapsed": false
   }
  }
 ],
 "metadata": {
  "kernelspec": {
   "display_name": "Python 3 (ipykernel)",
   "language": "python",
   "name": "python3"
  },
  "language_info": {
   "codemirror_mode": {
    "name": "ipython",
    "version": 3
   },
   "file_extension": ".py",
   "mimetype": "text/x-python",
   "name": "python",
   "nbconvert_exporter": "python",
   "pygments_lexer": "ipython3",
   "version": "3.10.8"
  }
 },
 "nbformat": 4,
 "nbformat_minor": 1
}
